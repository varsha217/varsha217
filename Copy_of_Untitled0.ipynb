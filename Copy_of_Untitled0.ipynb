{
  "nbformat": 4,
  "nbformat_minor": 0,
  "metadata": {
    "colab": {
      "provenance": [],
      "authorship_tag": "ABX9TyOvoFUf+FrN7weSOl8EptM0",
      "include_colab_link": true
    },
    "kernelspec": {
      "name": "python3",
      "display_name": "Python 3"
    },
    "language_info": {
      "name": "python"
    }
  },
  "cells": [
    {
      "cell_type": "markdown",
      "metadata": {
        "id": "view-in-github",
        "colab_type": "text"
      },
      "source": [
        "<a href=\"https://colab.research.google.com/github/varsha217/varsha217/blob/main/Copy_of_Untitled0.ipynb\" target=\"_parent\"><img src=\"https://colab.research.google.com/assets/colab-badge.svg\" alt=\"Open In Colab\"/></a>"
      ]
    },
    {
      "cell_type": "markdown",
      "source": [
        "import all galleries"
      ],
      "metadata": {
        "id": "joH8TFyBLt-Q"
      }
    },
    {
      "cell_type": "code",
      "execution_count": null,
      "metadata": {
        "id": "oEqmUymOKO9u"
      },
      "outputs": [],
      "source": [
        "import pandas as pd\n",
        "import numpy as np\n",
        "import seaborn as sns\n",
        "import matplotlib.pyplot as plt\n",
        "from sklearn.model_selection import train_test_split\n",
        "from sklearn.linear_model import LinearRegression\n",
        "from sklearn.metrics import r2_score\n",
        "from sklearn.ensemble import RandomForestClassifier\n",
        "from sklearn.metrics import classification_report, roc_auc_score\n",
        "# for real time monitoring simulation\n",
        "import time"
      ]
    },
    {
      "cell_type": "markdown",
      "source": [
        "LOAD AND EXPLORE DATASET"
      ],
      "metadata": {
        "id": "qfRF9ROCc8xJ"
      }
    },
    {
      "cell_type": "code",
      "source": [
        "df=pd.read_csv('//content/Data Anaytics Project Data  - Project 2- Data .csv')"
      ],
      "metadata": {
        "id": "oJ8GeZEAc8LD"
      },
      "execution_count": null,
      "outputs": []
    },
    {
      "cell_type": "markdown",
      "source": [
        "displya the few rows apf dataset"
      ],
      "metadata": {
        "id": "vQIZ6llGgNPB"
      }
    },
    {
      "cell_type": "code",
      "source": [
        "print(df.head())"
      ],
      "metadata": {
        "colab": {
          "base_uri": "https://localhost:8080/"
        },
        "id": "sP52tVwfgMCo",
        "outputId": "dd97535a-2ae8-44bc-866d-bb95bbca6347"
      },
      "execution_count": null,
      "outputs": [
        {
          "output_type": "stream",
          "name": "stdout",
          "text": [
            "   Transaction_ID  Customer_ID  Transaction_Amount   Location Time_of_Day  \\\n",
            "0               1          101                1000     Mumbai     Morning   \n",
            "1               2          102                 500      Delhi   Afternoon   \n",
            "2               3          103                2000    Chennai     Evening   \n",
            "3               4          104                 300    Gujarat     Morning   \n",
            "4               5          105                 800  Bengalore   Afternoon   \n",
            "\n",
            "   Is_Fraudulent  \n",
            "0              0  \n",
            "1              1  \n",
            "2              0  \n",
            "3              1  \n",
            "4              0  \n"
          ]
        }
      ]
    },
    {
      "cell_type": "code",
      "source": [
        "# check for missing values\n",
        "print(df.isnull().sum)"
      ],
      "metadata": {
        "colab": {
          "base_uri": "https://localhost:8080/"
        },
        "id": "xxQ-HfJUgfUC",
        "outputId": "73911de9-e27d-4909-d575-83821876a506"
      },
      "execution_count": null,
      "outputs": [
        {
          "output_type": "stream",
          "name": "stdout",
          "text": [
            "<bound method DataFrame.sum of     Transaction_ID  Customer_ID  Transaction_Amount  Location  Time_of_Day  \\\n",
            "0            False        False               False     False        False   \n",
            "1            False        False               False     False        False   \n",
            "2            False        False               False     False        False   \n",
            "3            False        False               False     False        False   \n",
            "4            False        False               False     False        False   \n",
            "5            False        False               False     False        False   \n",
            "6            False        False               False     False        False   \n",
            "7            False        False               False     False        False   \n",
            "8            False        False               False     False        False   \n",
            "9            False        False               False     False        False   \n",
            "10           False        False               False     False        False   \n",
            "11           False        False               False     False        False   \n",
            "12           False        False               False     False        False   \n",
            "13           False        False               False     False        False   \n",
            "14           False        False               False     False        False   \n",
            "15           False        False               False     False        False   \n",
            "16           False        False               False     False        False   \n",
            "17           False        False               False     False        False   \n",
            "18           False        False               False     False        False   \n",
            "19           False        False               False     False        False   \n",
            "\n",
            "    Is_Fraudulent  \n",
            "0           False  \n",
            "1           False  \n",
            "2           False  \n",
            "3           False  \n",
            "4           False  \n",
            "5           False  \n",
            "6           False  \n",
            "7           False  \n",
            "8           False  \n",
            "9           False  \n",
            "10          False  \n",
            "11          False  \n",
            "12          False  \n",
            "13          False  \n",
            "14          False  \n",
            "15          False  \n",
            "16          False  \n",
            "17          False  \n",
            "18          False  \n",
            "19          False  >\n"
          ]
        }
      ]
    },
    {
      "cell_type": "code",
      "source": [
        "# check the basic stastics of data\n",
        "print(df.describe())"
      ],
      "metadata": {
        "colab": {
          "base_uri": "https://localhost:8080/"
        },
        "id": "K4udMrp0gyzc",
        "outputId": "a45c01dd-7fac-45de-f5dc-4edd2b4049be"
      },
      "execution_count": null,
      "outputs": [
        {
          "output_type": "stream",
          "name": "stdout",
          "text": [
            "       Transaction_ID  Customer_ID  Transaction_Amount  Is_Fraudulent\n",
            "count        20.00000     20.00000           20.000000      20.000000\n",
            "mean         10.50000    110.50000         1192.500000       0.400000\n",
            "std           5.91608      5.91608          787.112478       0.502625\n",
            "min           1.00000    101.00000          300.000000       0.000000\n",
            "25%           5.75000    105.75000          500.000000       0.000000\n",
            "50%          10.50000    110.50000          950.000000       0.000000\n",
            "75%          15.25000    115.25000         1725.000000       1.000000\n",
            "max          20.00000    120.00000         3000.000000       1.000000\n"
          ]
        }
      ]
    },
    {
      "cell_type": "markdown",
      "source": [
        "DATA PREPRCESSING\n",
        "* HANDLE MISSING VALUES AND PREPROCESS DATA"
      ],
      "metadata": {
        "id": "F99GSphxg_X0"
      }
    },
    {
      "cell_type": "code",
      "source": [
        "#drop the missing values or fill the missing values\n",
        "df_cleaned = df.dropna()\n",
        "\n",
        "#conver catogerical columns to numerical\n",
        "df_cleaned= pd.get_dummies(df_cleaned, drop_first=True)\n",
        "\n",
        "# check cleaned data\n",
        "print(df_cleaned.head())"
      ],
      "metadata": {
        "colab": {
          "base_uri": "https://localhost:8080/"
        },
        "id": "gOx5gg2jhC-x",
        "outputId": "7b2842ce-cfa5-412e-be3d-70bee2c336f5"
      },
      "execution_count": null,
      "outputs": [
        {
          "output_type": "stream",
          "name": "stdout",
          "text": [
            "   Transaction_ID  Customer_ID  Transaction_Amount  Is_Fraudulent  \\\n",
            "0               1          101                1000              0   \n",
            "1               2          102                 500              1   \n",
            "2               3          103                2000              0   \n",
            "3               4          104                 300              1   \n",
            "4               5          105                 800              0   \n",
            "\n",
            "   Location_Chennai  Location_Delhi  Location_Gujarat  Location_Mumbai  \\\n",
            "0             False           False             False             True   \n",
            "1             False            True             False            False   \n",
            "2              True           False             False            False   \n",
            "3             False           False              True            False   \n",
            "4             False           False             False            False   \n",
            "\n",
            "   Time_of_Day_Evening  Time_of_Day_Morning  \n",
            "0                False                 True  \n",
            "1                False                False  \n",
            "2                 True                False  \n",
            "3                False                 True  \n",
            "4                False                False  \n"
          ]
        }
      ]
    },
    {
      "cell_type": "markdown",
      "source": [
        "FEATURE SELECTION\n",
        "\n",
        "*SLECT FEATURE THAT INDICATE FRAUDE"
      ],
      "metadata": {
        "id": "K7ce5lX-jIbx"
      }
    },
    {
      "source": [
        "#SPECIFY RELEVENT FEATURE FOR FRAUD DETECTION\n",
        "features =['Transaction_Amount', 'Location_Mumbai', 'Location_Delhi',  'Location_Gujarat', 'Location_Chennai', 'Customer_ID','Is_Fraudulent', 'Time_of_Day_Evening' , 'Time_of_Day_Morning'] # Removed duplicate 'Location_Delhi' and corrected 'Location_mumbai' to 'Location_Mumbai'\n",
        "\n",
        "#extract the features matrix (x)\n",
        "\n",
        "x = df_cleaned[features]\n",
        "\n",
        "# normaalize the data\n",
        "\n",
        "from sklearn.preprocessing import StandardScaler\n",
        "scaler= StandardScaler()\n",
        "X_scaled = scaler.fit_transform(x)"
      ],
      "cell_type": "code",
      "metadata": {
        "id": "l6YEbrjirTjo"
      },
      "execution_count": null,
      "outputs": []
    },
    {
      "cell_type": "markdown",
      "source": [
        " MODEL SELCTION"
      ],
      "metadata": {
        "id": "trF23C1XrkYo"
      }
    },
    {
      "source": [
        "#IMPORT THE NECESSARY MODULE\n",
        "from sklearn.ensemble import IsolationForest # Import the IsolationForest class from the sklearn.ensemble module\n",
        "\n",
        "#INITIALIZE THE ISOLATION FOREST MODEL\n",
        "model= IsolationForest(n_estimators=100, contamination=0.01, random_state=42)\n",
        "\n",
        "#FIT THE MODEL TO THE SCALED DATA\n",
        "model.fit(X_scaled)"
      ],
      "cell_type": "code",
      "metadata": {
        "colab": {
          "base_uri": "https://localhost:8080/",
          "height": 75
        },
        "id": "1MSSSo-UsM9J",
        "outputId": "79f6ac24-d368-4700-9527-a24cc5ace1a9"
      },
      "execution_count": null,
      "outputs": [
        {
          "output_type": "execute_result",
          "data": {
            "text/plain": [
              "IsolationForest(contamination=0.01, random_state=42)"
            ],
            "text/html": [
              "<style>#sk-container-id-1 {color: black;}#sk-container-id-1 pre{padding: 0;}#sk-container-id-1 div.sk-toggleable {background-color: white;}#sk-container-id-1 label.sk-toggleable__label {cursor: pointer;display: block;width: 100%;margin-bottom: 0;padding: 0.3em;box-sizing: border-box;text-align: center;}#sk-container-id-1 label.sk-toggleable__label-arrow:before {content: \"▸\";float: left;margin-right: 0.25em;color: #696969;}#sk-container-id-1 label.sk-toggleable__label-arrow:hover:before {color: black;}#sk-container-id-1 div.sk-estimator:hover label.sk-toggleable__label-arrow:before {color: black;}#sk-container-id-1 div.sk-toggleable__content {max-height: 0;max-width: 0;overflow: hidden;text-align: left;background-color: #f0f8ff;}#sk-container-id-1 div.sk-toggleable__content pre {margin: 0.2em;color: black;border-radius: 0.25em;background-color: #f0f8ff;}#sk-container-id-1 input.sk-toggleable__control:checked~div.sk-toggleable__content {max-height: 200px;max-width: 100%;overflow: auto;}#sk-container-id-1 input.sk-toggleable__control:checked~label.sk-toggleable__label-arrow:before {content: \"▾\";}#sk-container-id-1 div.sk-estimator input.sk-toggleable__control:checked~label.sk-toggleable__label {background-color: #d4ebff;}#sk-container-id-1 div.sk-label input.sk-toggleable__control:checked~label.sk-toggleable__label {background-color: #d4ebff;}#sk-container-id-1 input.sk-hidden--visually {border: 0;clip: rect(1px 1px 1px 1px);clip: rect(1px, 1px, 1px, 1px);height: 1px;margin: -1px;overflow: hidden;padding: 0;position: absolute;width: 1px;}#sk-container-id-1 div.sk-estimator {font-family: monospace;background-color: #f0f8ff;border: 1px dotted black;border-radius: 0.25em;box-sizing: border-box;margin-bottom: 0.5em;}#sk-container-id-1 div.sk-estimator:hover {background-color: #d4ebff;}#sk-container-id-1 div.sk-parallel-item::after {content: \"\";width: 100%;border-bottom: 1px solid gray;flex-grow: 1;}#sk-container-id-1 div.sk-label:hover label.sk-toggleable__label {background-color: #d4ebff;}#sk-container-id-1 div.sk-serial::before {content: \"\";position: absolute;border-left: 1px solid gray;box-sizing: border-box;top: 0;bottom: 0;left: 50%;z-index: 0;}#sk-container-id-1 div.sk-serial {display: flex;flex-direction: column;align-items: center;background-color: white;padding-right: 0.2em;padding-left: 0.2em;position: relative;}#sk-container-id-1 div.sk-item {position: relative;z-index: 1;}#sk-container-id-1 div.sk-parallel {display: flex;align-items: stretch;justify-content: center;background-color: white;position: relative;}#sk-container-id-1 div.sk-item::before, #sk-container-id-1 div.sk-parallel-item::before {content: \"\";position: absolute;border-left: 1px solid gray;box-sizing: border-box;top: 0;bottom: 0;left: 50%;z-index: -1;}#sk-container-id-1 div.sk-parallel-item {display: flex;flex-direction: column;z-index: 1;position: relative;background-color: white;}#sk-container-id-1 div.sk-parallel-item:first-child::after {align-self: flex-end;width: 50%;}#sk-container-id-1 div.sk-parallel-item:last-child::after {align-self: flex-start;width: 50%;}#sk-container-id-1 div.sk-parallel-item:only-child::after {width: 0;}#sk-container-id-1 div.sk-dashed-wrapped {border: 1px dashed gray;margin: 0 0.4em 0.5em 0.4em;box-sizing: border-box;padding-bottom: 0.4em;background-color: white;}#sk-container-id-1 div.sk-label label {font-family: monospace;font-weight: bold;display: inline-block;line-height: 1.2em;}#sk-container-id-1 div.sk-label-container {text-align: center;}#sk-container-id-1 div.sk-container {/* jupyter's `normalize.less` sets `[hidden] { display: none; }` but bootstrap.min.css set `[hidden] { display: none !important; }` so we also need the `!important` here to be able to override the default hidden behavior on the sphinx rendered scikit-learn.org. See: https://github.com/scikit-learn/scikit-learn/issues/21755 */display: inline-block !important;position: relative;}#sk-container-id-1 div.sk-text-repr-fallback {display: none;}</style><div id=\"sk-container-id-1\" class=\"sk-top-container\"><div class=\"sk-text-repr-fallback\"><pre>IsolationForest(contamination=0.01, random_state=42)</pre><b>In a Jupyter environment, please rerun this cell to show the HTML representation or trust the notebook. <br />On GitHub, the HTML representation is unable to render, please try loading this page with nbviewer.org.</b></div><div class=\"sk-container\" hidden><div class=\"sk-item\"><div class=\"sk-estimator sk-toggleable\"><input class=\"sk-toggleable__control sk-hidden--visually\" id=\"sk-estimator-id-1\" type=\"checkbox\" checked><label for=\"sk-estimator-id-1\" class=\"sk-toggleable__label sk-toggleable__label-arrow\">IsolationForest</label><div class=\"sk-toggleable__content\"><pre>IsolationForest(contamination=0.01, random_state=42)</pre></div></div></div></div></div>"
            ]
          },
          "metadata": {},
          "execution_count": 16
        }
      ]
    },
    {
      "cell_type": "code",
      "source": [
        "# predict the anomalies 1=normal, -1=anamolies\n",
        "df_cleaned['anamoly_score']= model.predict(X_scaled)\n",
        "# convert predictions  -1 to 1 for fraud and 1-0 for normal\n",
        "df_cleaned['anamoly_score']=df_cleaned['anamoly_score'].apply(lambda x:1 if x==-1 else 0)\n",
        "#count the numbers of detected fraud\n",
        "fraud_count= df_cleaned['anamoly_score'].value_counts()\n",
        "print(fraud_count)\n"
      ],
      "metadata": {
        "colab": {
          "base_uri": "https://localhost:8080/"
        },
        "id": "IE2_z7A1sU5C",
        "outputId": "4267e3e5-1191-47ef-e4bf-887f8704d4f1"
      },
      "execution_count": null,
      "outputs": [
        {
          "output_type": "stream",
          "name": "stdout",
          "text": [
            "anamoly_score\n",
            "0    19\n",
            "1     1\n",
            "Name: count, dtype: int64\n"
          ]
        }
      ]
    },
    {
      "cell_type": "markdown",
      "source": [
        "Evalution"
      ],
      "metadata": {
        "id": "GJzXEfT8vBPS"
      }
    },
    {
      "cell_type": "code",
      "source": [
        "#Assuming 'label' column exists where 1= fraud, 0= normal (labeled data)"
      ],
      "metadata": {
        "id": "md-MZ4lovPET"
      },
      "execution_count": null,
      "outputs": []
    },
    {
      "source": [
        "y_true = df_cleaned['label'] # Use the existing 'label' column to get ground truth values"
      ],
      "cell_type": "code",
      "metadata": {
        "id": "cQSKWuJHfiee"
      },
      "execution_count": null,
      "outputs": []
    },
    {
      "cell_type": "code",
      "source": [
        "#model prediction\n",
        "y_pred = df_cleaned['anamoly_score']"
      ],
      "metadata": {
        "id": "m4MaygMmfp0w"
      },
      "execution_count": null,
      "outputs": []
    },
    {
      "source": [
        "print(len(y_true))\n",
        "print(len(y_pred))"
      ],
      "cell_type": "code",
      "metadata": {
        "colab": {
          "base_uri": "https://localhost:8080/"
        },
        "id": "yQbqoog7jO8a",
        "outputId": "28258f8b-0e8e-403f-9280-0efdd724e71c"
      },
      "execution_count": null,
      "outputs": [
        {
          "output_type": "stream",
          "name": "stdout",
          "text": [
            "5\n",
            "20\n"
          ]
        }
      ]
    },
    {
      "cell_type": "code",
      "source": [
        "# prompt: print(len(X), len(y))\n",
        "\n",
        "y = df_cleaned['Is_Fraudulent']\n",
        "X = df_cleaned.drop('Is_Fraudulent', axis=1)\n",
        "print(len(X), len(y))\n"
      ],
      "metadata": {
        "colab": {
          "base_uri": "https://localhost:8080/"
        },
        "id": "8rmTksolhsnv",
        "outputId": "a5691d4f-a07f-43f5-9987-72382427b415"
      },
      "execution_count": null,
      "outputs": [
        {
          "output_type": "stream",
          "name": "stdout",
          "text": [
            "20 20\n"
          ]
        }
      ]
    },
    {
      "source": [
        "# Import the confusion_matrix function from sklearn.metrics\n",
        "from sklearn.metrics import confusion_matrix\n",
        "\n",
        "# Assuming y_true is derived from a dataframe called 'df_cleaned' of length 20\n",
        "y_true = df_cleaned['Is_Fraudulent']\n",
        "\n",
        "#confusion matrix\n",
        "cm = confusion_matrix(y_true, y_pred)\n",
        "print(\"Confusion Matrix:\")\n",
        "print(cm)"
      ],
      "cell_type": "code",
      "metadata": {
        "colab": {
          "base_uri": "https://localhost:8080/"
        },
        "id": "qR-RcAE_kBsd",
        "outputId": "e200788f-0cfa-4978-f69f-7cd171d4edf1"
      },
      "execution_count": null,
      "outputs": [
        {
          "output_type": "stream",
          "name": "stdout",
          "text": [
            "Confusion Matrix:\n",
            "[[11  1]\n",
            " [ 8  0]]\n"
          ]
        }
      ]
    },
    {
      "cell_type": "code",
      "source": [
        "#confusion matrix\n",
        "cm = confusion_matrix(y_true, y_pred)\n",
        "print(\"Confusion Matrix:\")\n",
        "print(cm)"
      ],
      "metadata": {
        "colab": {
          "base_uri": "https://localhost:8080/"
        },
        "id": "SFciWD_ijpLB",
        "outputId": "308cbe45-6716-4f32-9590-20418bb52568"
      },
      "execution_count": null,
      "outputs": [
        {
          "output_type": "stream",
          "name": "stdout",
          "text": [
            "Confusion Matrix:\n",
            "[[11  1]\n",
            " [ 8  0]]\n"
          ]
        }
      ]
    },
    {
      "cell_type": "code",
      "source": [
        "# visualize the confusion ma\n",
        "sns.heatmap(cm, annot=True, fmt='d', cmap='Blues')\n",
        "plt.xlabel('Predicted')\n",
        "plt.ylabel('Actual')\n",
        "plt.show()"
      ],
      "metadata": {
        "colab": {
          "base_uri": "https://localhost:8080/",
          "height": 449
        },
        "id": "pccpuR7xkM-t",
        "outputId": "26b62659-ca1c-4870-8bf6-f796f4ec3868"
      },
      "execution_count": null,
      "outputs": [
        {
          "output_type": "display_data",
          "data": {
            "text/plain": [
              "<Figure size 640x480 with 2 Axes>"
            ],
            "image/png": "[encoded data removed]"
          },
          "metadata": {}
        }
      ]
    },
    {
      "cell_type": "code",
      "source": [
        "# Simulate real-time transaction monitoring\n",
        "for i in range(len(df_cleaned)):\n",
        "    new_transaction = X_scaled[i].reshape(1, -1)\n",
        "    prediction = model.predict(new_transaction)\n",
        "\n",
        "    # If an anomaly is detected (fraud)\n",
        "    if prediction == -1:\n",
        "        print(f\"Fraudulent transaction detected: Transaction ID {i}\")\n",
        "        # Trigger an alert (e.g., email, SMS) or automated action\n",
        "\n",
        "    time.sleep(1)  # Simulate real-time delay\n"
      ],
      "metadata": {
        "colab": {
          "base_uri": "https://localhost:8080/"
        },
        "id": "d6PhY8BxkZCm",
        "outputId": "ef8e2c63-9f4e-4b79-a548-6a2f58a16d87"
      },
      "execution_count": null,
      "outputs": [
        {
          "output_type": "stream",
          "name": "stdout",
          "text": [
            "Fraudulent transaction detected: Transaction ID 13\n"
          ]
        }
      ]
    },
    {
      "cell_type": "markdown",
      "source": [
        " Model Fine-tuning and Deployment\n",
        "Fine-tune the Model: You can adjust parameters such as the contamination rate to fit the bank’s fraud levels better.\n",
        "Deploy: Integrate the model with real-time transaction systems and trigger alerts for detected fraud cases.\n"
      ],
      "metadata": {
        "id": "7Uxmas8CkxZb"
      }
    }
  ]
}